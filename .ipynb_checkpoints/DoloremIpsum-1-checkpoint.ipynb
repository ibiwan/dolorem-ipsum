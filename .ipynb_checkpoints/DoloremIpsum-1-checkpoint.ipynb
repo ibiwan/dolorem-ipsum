{
 "cells": [
  {
   "cell_type": "markdown",
   "id": "a3cdb359-9981-4873-b597-4bad4e6e71ab",
   "metadata": {},
   "source": [
    "# Dolorem Ipsum\n",
    "\n",
    "## Prep script\n",
    "\n",
    "# https://www.biblestudyguide.org/ebooks/bibles/vul.pdf\n",
    "\n",
    "\n",
    "something\n"
   ]
  },
  {
   "cell_type": "code",
   "execution_count": 77,
   "id": "c2d01918-8555-40d9-9181-bd3396bde6f1",
   "metadata": {
    "jupyter": {
     "source_hidden": true
    },
    "scrolled": true
   },
   "outputs": [
    {
     "name": "stdout",
     "output_type": "stream",
     "text": [
      "ready\n"
     ]
    }
   ],
   "source": [
    "import random;\n",
    "import json;\n",
    "\n",
    "n = 2;\n",
    "usewds = []\n",
    "start = []\n",
    "recent = []\n",
    "rem=''\n",
    "mark = {}\n",
    "wordlist = [set(),set()]\n",
    "\n",
    "with open('./vulgate.txt', mode=\"rb\") as f:\n",
    "    while True:\n",
    "        k = f.read(10)\n",
    "        if len(k) == 0: \n",
    "            if len(start) > 0:\n",
    "                usewds = start[:]\n",
    "                start.clear()\n",
    "            else:\n",
    "                break;\n",
    "        s = rem + str(k, encoding='utf-8')\n",
    "        i=s.rindex(' ')\n",
    "        div = s[:i]\n",
    "        rem = s[i:]\n",
    "        wds = usewds or div.split(\" \")\n",
    "        for w in wds:\n",
    "            if w=='': continue;\n",
    "            if len(start) < n and len(k) > 0: start.append(w)\n",
    "            if len(recent) == n:\n",
    "                a = recent[-2]\n",
    "                b = recent[-1]\n",
    "                if not (a in mark): \n",
    "                    mark[a] = {}\n",
    "                if not (b in mark[a]): \n",
    "                    fresh = [set(), set()]\n",
    "                    mark[a][b] = fresh\n",
    "                try:\n",
    "                    z = 0 if w[1] in ['a', 'e', 'i', 'o', 'u'] else 1\n",
    "                    mark[a][b][z].add(w)\n",
    "                    wordlist[z].add(w)\n",
    "                except: print(w)\n",
    "            recent.append(w)\n",
    "            if len(recent) > n: recent.pop(0)\n",
    "wordlist[0] = list(wordlist[0])\n",
    "wordlist[1] = list(wordlist[1])\n",
    "\n",
    "mark = {a: {c: [list(e) for e in d] for c, d in b.items()} for a, b in mark.items()}\n",
    "\n",
    "out = open('./words.json', 'w')\n",
    "json.dump({'mark':mark,'wordlist':wordlist}, out)\n",
    "out.close()\n",
    "\n",
    "print(\"ready\")"
   ]
  },
  {
   "cell_type": "code",
   "execution_count": 147,
   "id": "9b35b926-d513-4aff-bb8a-d4bb04f803fc",
   "metadata": {
    "jupyter": {
     "source_hidden": true
    }
   },
   "outputs": [
    {
     "data": {
      "text/plain": [
       "'markov.txt'"
      ]
     },
     "execution_count": 147,
     "metadata": {},
     "output_type": "execute_result"
    }
   ],
   "source": [
    "#in practice this step would be manual\n",
    "import shutil\n",
    "shutil.copyfile('message.txt', 'markov.txt')"
   ]
  },
  {
   "cell_type": "code",
   "execution_count": 139,
   "id": "8b0c2ea3-da5f-45bd-8186-4694967f575d",
   "metadata": {
    "jupyter": {
     "source_hidden": true
    }
   },
   "outputs": [],
   "source": [
    "# Download source markov chain db\n",
    "import urllib.request\n",
    "u = 'https://ibiwan.com/static/words.json'\n",
    "f = open ('./markov.txt', 'a');\n",
    "for line in urllib.request.urlopen(u):\n",
    "    f.write(line.decode('utf-8'))\n",
    "f.close()\n",
    "\n",
    "# \n",
    "m, v = open('markov.txt', 'r', encoding='utf-8').read().split(\"{\",1);\n",
    "k = json.loads('{'+v)\n",
    "mark = k['mark']\n",
    "wordlist = k['wordlist']\n",
    "\n",
    "import os\n",
    "# recover word database space\n",
    "os.remove('markov.txt')\n",
    "\n",
    "\n",
    "w1 = random.choice(list(mark.keys()))\n",
    "w2 = random.choice(list(mark[w1].keys()))\n",
    "bites = [bin(ord(b))[2:].rjust(8, '0') for b in m]\n",
    "bs = ''.join(bites)\n",
    "gen = [w1, w2]\n",
    "out = []\n",
    "sentenceLength = 0\n",
    "minSentenceLength = 5\n",
    "minClauseLength = 6\n",
    "for c in bs:\n",
    "    branch = int(c)\n",
    "    [a, b] = gen[-2:]\n",
    "    cands = []\n",
    "    outWord = ''\n",
    "    vecWord = ''\n",
    "    if a in mark and b in mark[a]:\n",
    "        cands = list(mark[a][b][branch])\n",
    "        if len(cands):\n",
    "            vecWord = random.choice(cands)\n",
    "            outWord = vecWord\n",
    "        else:\n",
    "            vecWord = random.choice(list(mark[a][b][1 - branch]))\n",
    "            outWord = random.choice(wordlist[branch])\n",
    "    elif a in mark:\n",
    "        print(a, b, outWord, vecWord, mark[a][branch].keys(),mark[a][1 - branch].keys(), 'GEN', gen)\n",
    "        print(mark[a])\n",
    "        break\n",
    "    else:\n",
    "        outWord = random.choice(cands) if len(cands) > 0 else random.choice(wordlist[1-branch])\n",
    "        vecWord = random.choice(list(mark[a][b][1-branch]))\n",
    "\n",
    "    endSen = False\n",
    "    endClause = False\n",
    "    if sentenceLength > minSentenceLength:\n",
    "        for j in range(sentenceLength - minSentenceLength):\n",
    "            br = random.randint(0,5) == 0\n",
    "            if br:\n",
    "                endSen = True\n",
    "                break;\n",
    "    if sentenceLength == 0:\n",
    "        outWord = outWord.capitalize()\n",
    "    if sentenceLength > minClauseLength:\n",
    "        for k in range(sentenceLength - minClauseLength):\n",
    "            br = random.randint(0, 1) == 0\n",
    "            if br:\n",
    "                endClause = True\n",
    "                break;\n",
    "    if endSen:\n",
    "        out.append(outWord + '.')\n",
    "        sentenceLength = 0\n",
    "    elif endClause:\n",
    "        out.append(outWord + ',')\n",
    "        sentenceLength = 1\n",
    "    else:\n",
    "        out.append(outWord)\n",
    "        sentenceLength += 1\n",
    "    gen = [b, vecWord]\n",
    "lorem = \" \".join(out) + '.'\n",
    "\n",
    "out = open('./lorem.txt', 'w')\n",
    "out.write(lorem)\n",
    "out.close()"
   ]
  },
  {
   "cell_type": "code",
   "execution_count": 140,
   "id": "e37712c2-7f97-4f93-b573-266895234074",
   "metadata": {
    "jupyter": {
     "source_hidden": true
    }
   },
   "outputs": [
    {
     "name": "stdout",
     "output_type": "stream",
     "text": [
      "Do it tomorrow night!\n",
      "Signed, Me.\n"
     ]
    }
   ],
   "source": [
    "lorem = open('./lorem.txt','r').read()\n",
    "bits = [\"0\" if word[1] in ['a', 'e', 'i', 'o', 'u'] else \"1\" for word in lorem.split(\" \")]\n",
    "message = \"\"\n",
    "while len(bits) > 0:\n",
    "    bitbyte = bits[0:8]\n",
    "    bites = ''.join(bitbyte)\n",
    "    val = int(bites, 2)\n",
    "    message += chr(val)\n",
    "    bits = bits[8:]\n",
    "print(message)\n"
   ]
  }
 ],
 "metadata": {
  "kernelspec": {
   "display_name": "Python 3 (ipykernel)",
   "language": "python",
   "name": "python3"
  },
  "language_info": {
   "codemirror_mode": {
    "name": "ipython",
    "version": 3
   },
   "file_extension": ".py",
   "mimetype": "text/x-python",
   "name": "python",
   "nbconvert_exporter": "python",
   "pygments_lexer": "ipython3",
   "version": "3.11.5"
  }
 },
 "nbformat": 4,
 "nbformat_minor": 5
}
