{
 "cells": [
  {
   "cell_type": "code",
   "execution_count": 2,
   "id": "c2d01918-8555-40d9-9181-bd3396bde6f1",
   "metadata": {
    "scrolled": true
   },
   "outputs": [],
   "source": [
    "import random;\n",
    "import json;\n",
    "\n",
    "n = 2;\n",
    "usewds = []\n",
    "start = []\n",
    "recent = []\n",
    "rem=''\n",
    "mark = {}\n",
    "wordlist = [set(),set()]\n",
    "\n",
    "with open('./vulgate.txt', mode=\"rb\") as f:\n",
    "    # all = f.read()\n",
    "    # print(len(all))\n",
    "    while True:\n",
    "        k = f.read(10)\n",
    "        if len(k) == 0: \n",
    "            if len(start) > 0:\n",
    "                usewds = start[:]\n",
    "                start.clear()\n",
    "            else:\n",
    "                break;\n",
    "        s = rem + str(k, encoding='utf-8')\n",
    "        i=s.rindex(' ')\n",
    "        div = s[:i]\n",
    "        rem = s[i:]\n",
    "        wds = usewds or div.split(\" \")\n",
    "        for w in wds:\n",
    "            if w=='': continue;\n",
    "            if len(start) < n and len(k) > 0: start.append(w)\n",
    "            if len(recent) == n:\n",
    "                a = recent[-2]\n",
    "                b = recent[-1]\n",
    "                if not (a in mark): \n",
    "                    # print(mark, a);\n",
    "                    # break;\n",
    "                    mark[a] = {}\n",
    "                if not (b in mark[a]): \n",
    "                    fresh = [set(), set()]\n",
    "                    mark[a][b] = fresh\n",
    "                try:\n",
    "                    if w[1] in ['a', 'e', 'i', 'o', 'u']:\n",
    "                        mark[a][b][0].add(w)\n",
    "                        wordlist[0].add(w)\n",
    "                    else:\n",
    "                        mark[a][b][1].add(w)\n",
    "                        wordlist[1].add(w)\n",
    "                except:\n",
    "                    print(w)\n",
    "            recent.append(w)\n",
    "            if len(recent) > n: recent.pop(0)\n",
    "wordlist[0] = list(wordlist[0])\n",
    "wordlist[1] = list(wordlist[1])\n",
    "\n",
    "# my_dictionary = {k: f(v) for k, v in my_dictionary.items()}\n",
    "# markl = {a: {b: [list(s) for s in v] for c, v in b.items()} for a, b in mark.items()}\n",
    "mark = {a: {c: [list(e) for e in d] for c, d in b.items()} for a, b in mark.items()}\n",
    "\n",
    "# print(mark)\n",
    "# print(wordlist)\n",
    "\n",
    "out = open('./words.json', 'w')\n",
    "json.dump({'mark':mark,'wordlist':wordlist}, out)\n",
    "out.close()\n"
   ]
  },
  {
   "cell_type": "code",
   "execution_count": 27,
   "id": "d83daba4-8b52-4608-adf2-2fa04a3aeb29",
   "metadata": {
    "jupyter": {
     "source_hidden": true
    }
   },
   "outputs": [
    {
     "name": "stdout",
     "output_type": "stream",
     "text": [
      "48601\n",
      "29247 19354\n"
     ]
    }
   ],
   "source": [
    "print(len(mark.keys()))\n",
    "print(len(wordlist[0]), len(wordlist[1]))\n",
    "# print(mark.keys())\n",
    "# print(mark)\n",
    "# c = 0\n",
    "# choosy = {}\n",
    "# for k in mark.keys():\n",
    "#     for m in mark[k].keys():\n",
    "#         # print(mark[k][m])\n",
    "#         # if len(mark[k][m][0]) > 1 and len(mark[k][m][1]) > 1:\n",
    "#         #     # print(k, m)\n",
    "#         #     c += 1\n",
    "#         #     if not(k in choosy):\n",
    "#         #         choosy[k] = {}\n",
    "#         #     choosy[k][m]=mark[k][m]\n",
    "        # if len(mark[k][m][0]) == 0:\n",
    "        #     mark[k][m][0].add(random.choice(wordlist[0]))\n",
    "        # if len(mark[k][m][1]) == 0:\n",
    "        #     mark[k][m][1].add(random.choice(wordlist[1]))\n",
    "# print(c)\n",
    "# for i in range(10):\n",
    "#     m = random.choice(list(choosy.keys()))\n",
    "#     n = random.choice(list(choosy[m].keys()))\n",
    "#     print(m, n, choosy[m][n])\n",
    "# print(wordlist)"
   ]
  },
  {
   "cell_type": "code",
   "execution_count": 13,
   "id": "ec377386-bc05-4795-ba7e-bc38f28d311d",
   "metadata": {
    "collapsed": true,
    "jupyter": {
     "outputs_hidden": true
    },
    "scrolled": true
   },
   "outputs": [
    {
     "name": "stdout",
     "output_type": "stream",
     "text": [
      "autem\n",
      "erat\n",
      "super\n",
      "quod\n",
      "quae\n",
      "sunt\n",
      "suum\n",
      "quam\n",
      "eis\n",
      "eos\n",
      "earn\n",
      "vobis\n",
      "eorum\n",
      "quia\n",
      "non\n",
      "enim\n",
      "qui\n",
      "sed\n",
      "eius\n",
      "ergo\n",
      "eum\n",
      "suis\n",
      "omnes\n",
      "mea\n",
      "quoniam\n",
      "sicut\n",
      "cum\n",
      "tibi\n",
      "mihi\n",
      "tuum\n",
      "quasi\n",
      "tua\n",
      "filii\n",
      "nos\n",
      "ego\n",
      "vos\n",
      "neque\n",
      "srahel\n"
     ]
    }
   ],
   "source": [
    "for key in mark:\n",
    "    if len(mark[key]) > 600 and not key in ['in', 'et', 'ac', 'est', 'ab']:\n",
    "        print(key)"
   ]
  },
  {
   "cell_type": "code",
   "execution_count": 28,
   "id": "9dc79753-e350-4591-ae43-d43833792ea6",
   "metadata": {
    "collapsed": true,
    "jupyter": {
     "outputs_hidden": true
    }
   },
   "outputs": [
    {
     "name": "stdout",
     "output_type": "stream",
     "text": [
      "dict_keys(['creavit', 'quo', 'iam', 'anni', 'autem', 'audiet', 'quia', 'diebus', 'regni', 'operatorem', 'eius', 'laetitiae', 'ecce', 'terram', 'novi', 'aeterno', 'novissimo', 'dicamus', 'abscondito', 'colonus', 'adducam', 'cum', 'videte', 'locus', 'regis', 'coetus', 'emundabo', 'dicit', 'vigiliarum', 'zekiel', 'bonisque', 'post', 'implebuntur', 'germinantium', 'meus', 'non', 'abyssi', 'venit', 'venerat', 'omnibus', 'erat', 'apud', 'evangelii'])\n"
     ]
    }
   ],
   "source": [
    "print(mark['principio'].keys())"
   ]
  },
  {
   "cell_type": "code",
   "execution_count": 3,
   "id": "8b0c2ea3-da5f-45bd-8186-4694967f575d",
   "metadata": {},
   "outputs": [
    {
     "name": "stdout",
     "output_type": "stream",
     "text": [
      "01000100\n",
      "01101111\n",
      "00100000\n",
      "01101001\n",
      "01110100\n",
      "00100000\n",
      "01110100\n",
      "01101111\n",
      "01101101\n",
      "01101111\n",
      "01110010\n",
      "01110010\n",
      "01101111\n",
      "01110111\n",
      "00100000\n",
      "01101110\n",
      "01101001\n",
      "01100111\n",
      "01101000\n",
      "01110100\n",
      "00100001\n",
      "00001010\n",
      "01010011\n",
      "01101001\n",
      "01100111\n",
      "01101110\n",
      "01100101\n",
      "01100100\n",
      "00101100\n",
      "00100000\n",
      "01001101\n",
      "01100101\n",
      "00101110\n"
     ]
    }
   ],
   "source": [
    "clazz = 1\n",
    "m = open('./message.txt','rb')\n",
    "messagebytes = m.read()\n",
    "for b in messagebytes: print(bin(b)[2:].rjust(8, '0'))\n",
    "\n",
    "w1 = random.choice(list(mark.keys()))\n",
    "w2 = random.choice(list(mark[w1].keys()))\n",
    "gen = [w1, w2]\n",
    "out = []\n",
    "sentenceLength = 0\n",
    "minSentenceLength = 5\n",
    "minClauseLength = 6\n",
    "# for i in range(300):\n",
    "#     [a, b] = gen[-2:]\n",
    "#     cands = []\n",
    "#     outWord = ''\n",
    "#     vecWord = ''\n",
    "#     if a in mark and b in mark[a]:\n",
    "#         cands = list(mark[a][b][clazz])\n",
    "#         if len(cands):\n",
    "#             vecWord = random.choice(cands)\n",
    "#             outWord = vecWord\n",
    "#         else:\n",
    "#             vecWord = random.choice(list(mark[a][b][1 - clazz]))\n",
    "#             # print(wordlist[clazz])\n",
    "#             outWord = random.choice(wordlist[clazz])\n",
    "#     elif a in mark:\n",
    "#         print(a, b, outWord, vecWord, mark[a][clazz].keys(),mark[a][1 - clazz].keys(), 'GEN', gen)\n",
    "#         print(mark[a])\n",
    "#         break\n",
    "#     else:\n",
    "#         outWord = random.choice(cands) if len(cands) > 0 else random.choice(wordlist[1-clazz])\n",
    "#         vecWord = random.choice(list(mark[a][b][1-clazz]))\n",
    "\n",
    "#     endSen = False\n",
    "#     endClause = False\n",
    "#     if sentenceLength > minSentenceLength:\n",
    "#         for j in range(sentenceLength - minSentenceLength):\n",
    "#             br = random.randint(0,5) == 0\n",
    "#             # print(br)\n",
    "#             if br:\n",
    "#                 endSen = True\n",
    "#                 break;\n",
    "#                 # outWord = outWord.capitalize()\n",
    "#                 # sentenceLength = 0\n",
    "#     # else:\n",
    "#         # sentenceLength += 1\n",
    "#     if sentenceLength == 0:\n",
    "#         outWord = outWord.capitalize()\n",
    "#     if sentenceLength > minClauseLength:\n",
    "#         for k in range(sentenceLength - minClauseLength):\n",
    "#             br = random.randint(0, 1) == 0\n",
    "#             if br:\n",
    "#                 endClause = True\n",
    "#                 break;\n",
    "#     # print(endSen, endClause)\n",
    "#     if endSen:\n",
    "#         # outWord = \n",
    "#         # out.append('.')\n",
    "#         out.append(outWord + '.')\n",
    "#         sentenceLength = 0\n",
    "#     elif endClause:\n",
    "#         out.append(outWord + ',')\n",
    "#         sentenceLength = 1\n",
    "#     else:\n",
    "#         out.append(outWord)\n",
    "#         sentenceLength += 1\n",
    "#     gen = [b, vecWord]\n",
    "# print(\" \".join(out) + '.') "
   ]
  },
  {
   "cell_type": "code",
   "execution_count": null,
   "id": "fe974ee9-54e7-495e-bdfd-5bbd60777806",
   "metadata": {},
   "outputs": [],
   "source": []
  },
  {
   "cell_type": "code",
   "execution_count": null,
   "id": "9562bb70-67a8-40e1-a427-589a2eb87dcf",
   "metadata": {},
   "outputs": [],
   "source": []
  }
 ],
 "metadata": {
  "kernelspec": {
   "display_name": "Python 3 (ipykernel)",
   "language": "python",
   "name": "python3"
  },
  "language_info": {
   "codemirror_mode": {
    "name": "ipython",
    "version": 3
   },
   "file_extension": ".py",
   "mimetype": "text/x-python",
   "name": "python",
   "nbconvert_exporter": "python",
   "pygments_lexer": "ipython3",
   "version": "3.11.5"
  }
 },
 "nbformat": 4,
 "nbformat_minor": 5
}
