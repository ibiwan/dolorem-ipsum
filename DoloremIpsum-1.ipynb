{
 "cells": [
  {
   "cell_type": "markdown",
   "id": "a3cdb359-9981-4873-b597-4bad4e6e71ab",
   "metadata": {},
   "source": [
    "## Prep script\n",
    "\n",
    "#\n",
    "\n",
    "something\n"
   ]
  },
  {
   "cell_type": "code",
   "execution_count": 2,
   "id": "c2d01918-8555-40d9-9181-bd3396bde6f1",
   "metadata": {
    "scrolled": true
   },
   "outputs": [],
   "source": [
    "import random;\n",
    "import json;\n",
    "\n",
    "n = 2;\n",
    "usewds = []\n",
    "start = []\n",
    "recent = []\n",
    "rem=''\n",
    "mark = {}\n",
    "wordlist = [set(),set()]\n",
    "\n",
    "with open('./vulgate.txt', mode=\"rb\") as f:\n",
    "    # all = f.read()\n",
    "    # print(len(all))\n",
    "    while True:\n",
    "        k = f.read(10)\n",
    "        if len(k) == 0: \n",
    "            if len(start) > 0:\n",
    "                usewds = start[:]\n",
    "                start.clear()\n",
    "            else:\n",
    "                break;\n",
    "        s = rem + str(k, encoding='utf-8')\n",
    "        i=s.rindex(' ')\n",
    "        div = s[:i]\n",
    "        rem = s[i:]\n",
    "        wds = usewds or div.split(\" \")\n",
    "        for w in wds:\n",
    "            if w=='': continue;\n",
    "            if len(start) < n and len(k) > 0: start.append(w)\n",
    "            if len(recent) == n:\n",
    "                a = recent[-2]\n",
    "                b = recent[-1]\n",
    "                if not (a in mark): \n",
    "                    # print(mark, a);\n",
    "                    # break;\n",
    "                    mark[a] = {}\n",
    "                if not (b in mark[a]): \n",
    "                    fresh = [set(), set()]\n",
    "                    mark[a][b] = fresh\n",
    "                try:\n",
    "                    if w[1] in ['a', 'e', 'i', 'o', 'u']:\n",
    "                        mark[a][b][0].add(w)\n",
    "                        wordlist[0].add(w)\n",
    "                    else:\n",
    "                        mark[a][b][1].add(w)\n",
    "                        wordlist[1].add(w)\n",
    "                except:\n",
    "                    print(w)\n",
    "            recent.append(w)\n",
    "            if len(recent) > n: recent.pop(0)\n",
    "wordlist[0] = list(wordlist[0])\n",
    "wordlist[1] = list(wordlist[1])\n",
    "\n",
    "# my_dictionary = {k: f(v) for k, v in my_dictionary.items()}\n",
    "# markl = {a: {b: [list(s) for s in v] for c, v in b.items()} for a, b in mark.items()}\n",
    "mark = {a: {c: [list(e) for e in d] for c, d in b.items()} for a, b in mark.items()}\n",
    "\n",
    "# print(mark)\n",
    "# print(wordlist)\n",
    "\n",
    "out = open('./words.json', 'w')\n",
    "json.dump({'mark':mark,'wordlist':wordlist}, out)\n",
    "out.close()\n"
   ]
  },
  {
   "cell_type": "code",
   "execution_count": 27,
   "id": "d83daba4-8b52-4608-adf2-2fa04a3aeb29",
   "metadata": {
    "jupyter": {
     "source_hidden": true
    }
   },
   "outputs": [
    {
     "name": "stdout",
     "output_type": "stream",
     "text": [
      "48601\n",
      "29247 19354\n"
     ]
    }
   ],
   "source": [
    "print(len(mark.keys()))\n",
    "print(len(wordlist[0]), len(wordlist[1]))\n",
    "# print(mark.keys())\n",
    "# print(mark)\n",
    "# c = 0\n",
    "# choosy = {}\n",
    "# for k in mark.keys():\n",
    "#     for m in mark[k].keys():\n",
    "#         # print(mark[k][m])\n",
    "#         # if len(mark[k][m][0]) > 1 and len(mark[k][m][1]) > 1:\n",
    "#         #     # print(k, m)\n",
    "#         #     c += 1\n",
    "#         #     if not(k in choosy):\n",
    "#         #         choosy[k] = {}\n",
    "#         #     choosy[k][m]=mark[k][m]\n",
    "        # if len(mark[k][m][0]) == 0:\n",
    "        #     mark[k][m][0].add(random.choice(wordlist[0]))\n",
    "        # if len(mark[k][m][1]) == 0:\n",
    "        #     mark[k][m][1].add(random.choice(wordlist[1]))\n",
    "# print(c)\n",
    "# for i in range(10):\n",
    "#     m = random.choice(list(choosy.keys()))\n",
    "#     n = random.choice(list(choosy[m].keys()))\n",
    "#     print(m, n, choosy[m][n])\n",
    "# print(wordlist)"
   ]
  },
  {
   "cell_type": "code",
   "execution_count": 13,
   "id": "ec377386-bc05-4795-ba7e-bc38f28d311d",
   "metadata": {
    "collapsed": true,
    "jupyter": {
     "outputs_hidden": true
    },
    "scrolled": true
   },
   "outputs": [
    {
     "name": "stdout",
     "output_type": "stream",
     "text": [
      "autem\n",
      "erat\n",
      "super\n",
      "quod\n",
      "quae\n",
      "sunt\n",
      "suum\n",
      "quam\n",
      "eis\n",
      "eos\n",
      "earn\n",
      "vobis\n",
      "eorum\n",
      "quia\n",
      "non\n",
      "enim\n",
      "qui\n",
      "sed\n",
      "eius\n",
      "ergo\n",
      "eum\n",
      "suis\n",
      "omnes\n",
      "mea\n",
      "quoniam\n",
      "sicut\n",
      "cum\n",
      "tibi\n",
      "mihi\n",
      "tuum\n",
      "quasi\n",
      "tua\n",
      "filii\n",
      "nos\n",
      "ego\n",
      "vos\n",
      "neque\n",
      "srahel\n"
     ]
    }
   ],
   "source": [
    "for key in mark:\n",
    "    if len(mark[key]) > 600 and not key in ['in', 'et', 'ac', 'est', 'ab']:\n",
    "        print(key)"
   ]
  },
  {
   "cell_type": "code",
   "execution_count": 28,
   "id": "9dc79753-e350-4591-ae43-d43833792ea6",
   "metadata": {},
   "outputs": [
    {
     "name": "stdout",
     "output_type": "stream",
     "text": [
      "dict_keys(['creavit', 'quo', 'iam', 'anni', 'autem', 'audiet', 'quia', 'diebus', 'regni', 'operatorem', 'eius', 'laetitiae', 'ecce', 'terram', 'novi', 'aeterno', 'novissimo', 'dicamus', 'abscondito', 'colonus', 'adducam', 'cum', 'videte', 'locus', 'regis', 'coetus', 'emundabo', 'dicit', 'vigiliarum', 'zekiel', 'bonisque', 'post', 'implebuntur', 'germinantium', 'meus', 'non', 'abyssi', 'venit', 'venerat', 'omnibus', 'erat', 'apud', 'evangelii'])\n"
     ]
    }
   ],
   "source": [
    "print(mark['principio'].keys())"
   ]
  },
  {
   "cell_type": "code",
   "execution_count": 61,
   "id": "8b0c2ea3-da5f-45bd-8186-4694967f575d",
   "metadata": {},
   "outputs": [
    {
     "name": "stdout",
     "output_type": "stream",
     "text": [
      "Cadaver primitiae non habebis sacculo adventu pondera maius, minus inprudentes erit domo ellec usque praesens praeesse noluisti, haec igitur dicit hoc foedus meum. Quod pepigeram elihel adlocutio eorum urbis quam vineas intellegimus, domum srahel uda translatique sunt abylonem videri. Delictum quo quingentas alienos reportabant dirigeret viam eius volet, cum ardentium unus alaaditarum pallia pha quicumque audierit, conridebit ancillam stupescere ait osen extende operandi. Symphoniam mare abstulit illud verebuntur praeberetis profectio lucebunt, excelsius nocte tradita est memoria tyrannorum pro universis. Primogenitis pecoris ebrii srahel itaque fili hominis scribe. Tibi verba speciosissima aquilam praecipere dilexerimus volumen. Clangunt dixit quid interrogas interroga eos adparatus procul incidit, initio sic syra alatas aquilarum percepturos edebian. Artavitque claruit decantantes laudes uben autem condemnabitis. Sacri vox cofino audiebatur planctus ploratorum fugatos armelitide, indigneris inlaqueatus servus cum intinguit adflictus popularis. Aspiciunt regi similia adprehendite similiter ergo omnes maiores, natu ecclesiae adulteri est socius crudeles asperum autem, fratres desolati vobis tempus horae aspectu obee adpropiate. Duplici epthali aetas mille cum libaminibus alumni. Donet ritu numerabis aesaream srahel his qui sectantur. Vestigia inpendebant vicit enchris earn suscipiatis arantem. Sanctis adsistatis quocumque negotio inhabitantibus indiguerit fabricata ipsa. Effundatis caro infirmitatibus dicebat lepra tributis iudicabitur atque inolita. Cuti contaminabit itaque trementia bsalom dimisit cruciamenta mnon pavit. Accharias praecepturus principes veniam qui erat erodis tetrarchae conlactaneus, spicati ministrantibus introiens dirigentur crescente smahel. Discipulorum factus est potentia sua concupiscet collegissent adnuntiasti hominem, pravam oratione certe carcerem benedictus patrum icodemus, confiteor teque laudo quia sapientiam fortitudinem adplicabis laboriosa, benedictionem omnem creaturam quae transiens factae universaque plurimae virtutes eius. Angustiamur nomen investigabit servi laudate adtendant laudate pronuntiavi arguenti. Obis laudate.\n"
     ]
    }
   ],
   "source": [
    "# clazz = 1\n",
    "m = open('./message.txt','rb')\n",
    "messagebytes = m.read()\n",
    "bites = [bin(b)[2:].rjust(8, '0') for b in messagebytes]\n",
    "bs = ''.join(bites)\n",
    "\n",
    "w1 = random.choice(list(mark.keys()))\n",
    "w2 = random.choice(list(mark[w1].keys()))\n",
    "gen = [w1, w2]\n",
    "out = []\n",
    "sentenceLength = 0\n",
    "minSentenceLength = 5\n",
    "minClauseLength = 6\n",
    "for c in bs:\n",
    "# for i in range(300):\n",
    "    clazz = int(c)\n",
    "    # print(c, clazz)\n",
    "    [a, b] = gen[-2:]\n",
    "    cands = []\n",
    "    outWord = ''\n",
    "    vecWord = ''\n",
    "    if a in mark and b in mark[a]:\n",
    "        cands = list(mark[a][b][clazz])\n",
    "        if len(cands):\n",
    "            vecWord = random.choice(cands)\n",
    "            outWord = vecWord\n",
    "        else:\n",
    "            vecWord = random.choice(list(mark[a][b][1 - clazz]))\n",
    "            # print(wordlist[clazz])\n",
    "            outWord = random.choice(wordlist[clazz])\n",
    "    elif a in mark:\n",
    "        print(a, b, outWord, vecWord, mark[a][clazz].keys(),mark[a][1 - clazz].keys(), 'GEN', gen)\n",
    "        print(mark[a])\n",
    "        break\n",
    "    else:\n",
    "        outWord = random.choice(cands) if len(cands) > 0 else random.choice(wordlist[1-clazz])\n",
    "        vecWord = random.choice(list(mark[a][b][1-clazz]))\n",
    "\n",
    "    endSen = False\n",
    "    endClause = False\n",
    "    if sentenceLength > minSentenceLength:\n",
    "        for j in range(sentenceLength - minSentenceLength):\n",
    "            br = random.randint(0,5) == 0\n",
    "            # print(br)\n",
    "            if br:\n",
    "                endSen = True\n",
    "                break;\n",
    "                # outWord = outWord.capitalize()\n",
    "                # sentenceLength = 0\n",
    "    # else:\n",
    "        # sentenceLength += 1\n",
    "    if sentenceLength == 0:\n",
    "        outWord = outWord.capitalize()\n",
    "    if sentenceLength > minClauseLength:\n",
    "        for k in range(sentenceLength - minClauseLength):\n",
    "            br = random.randint(0, 1) == 0\n",
    "            if br:\n",
    "                endClause = True\n",
    "                break;\n",
    "    # print(endSen, endClause)\n",
    "    if endSen:\n",
    "        # outWord = \n",
    "        # out.append('.')\n",
    "        out.append(outWord + '.')\n",
    "        sentenceLength = 0\n",
    "    elif endClause:\n",
    "        out.append(outWord + ',')\n",
    "        sentenceLength = 1\n",
    "    else:\n",
    "        out.append(outWord)\n",
    "        sentenceLength += 1\n",
    "    gen = [b, vecWord]\n",
    "lorem = \" \".join(out) + '.'\n",
    "print(lorem)\n"
   ]
  },
  {
   "cell_type": "code",
   "execution_count": 62,
   "id": "e37712c2-7f97-4f93-b573-266895234074",
   "metadata": {},
   "outputs": [
    {
     "name": "stdout",
     "output_type": "stream",
     "text": [
      "Do it tomorrow night!\n",
      "Signed, Me.\n"
     ]
    }
   ],
   "source": [
    "bits = [\"0\" if word[1] in ['a', 'e', 'i', 'o', 'u'] else \"1\" for word in lorem.split(\" \")]\n",
    "message = \"\"\n",
    "while len(bits) > 0:\n",
    "    bitbyte = bits[0:8]\n",
    "    bites = ''.join(bitbyte)\n",
    "    val = int(bites, 2)\n",
    "    message += chr(val)\n",
    "    bits = bits[8:]\n",
    "print(message)\n"
   ]
  }
 ],
 "metadata": {
  "kernelspec": {
   "display_name": "Python 3 (ipykernel)",
   "language": "python",
   "name": "python3"
  },
  "language_info": {
   "codemirror_mode": {
    "name": "ipython",
    "version": 3
   },
   "file_extension": ".py",
   "mimetype": "text/x-python",
   "name": "python",
   "nbconvert_exporter": "python",
   "pygments_lexer": "ipython3",
   "version": "3.11.5"
  }
 },
 "nbformat": 4,
 "nbformat_minor": 5
}
